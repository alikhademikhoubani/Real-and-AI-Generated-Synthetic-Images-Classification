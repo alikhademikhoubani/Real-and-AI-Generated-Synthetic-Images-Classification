{
 "cells": [
  {
   "cell_type": "code",
   "execution_count": 149,
   "id": "3470434d",
   "metadata": {},
   "outputs": [],
   "source": [
    "import pandas as pd\n",
    "import numpy as np\n",
    "import os\n",
    "from PIL import Image\n",
    "import cv2\n",
    "from zipfile import ZipFile\n",
    "import matplotlib.pyplot as plt\n",
    "from sklearn.model_selection import train_test_split\n",
    "import tensorflow as tf\n",
    "from tensorflow import keras\n",
    "from tensorflow.keras.models import Sequential\n",
    "from tensorflow.keras.layers import Conv2D,MaxPooling2D,Dense,Flatten\n",
    "from sklearn.metrics import classification_report,confusion_matrix\n",
    "import seaborn as sns"
   ]
  },
  {
   "cell_type": "code",
   "execution_count": 89,
   "id": "1525f2f2",
   "metadata": {},
   "outputs": [
    {
     "name": "stdout",
     "output_type": "stream",
     "text": [
      "The dataset is extracted\n"
     ]
    }
   ],
   "source": [
    "dataset='./fake or real.zip'\n",
    "with ZipFile(dataset,'r') as zip:\n",
    "    zip.extractall()\n",
    "    print('The dataset is extracted')"
   ]
  },
  {
   "cell_type": "code",
   "execution_count": 90,
   "id": "a3ee3cdc",
   "metadata": {},
   "outputs": [
    {
     "name": "stdout",
     "output_type": "stream",
     "text": [
      "Number of images is:  20000\n"
     ]
    }
   ],
   "source": [
    "path,dirs,files=next(os.walk('./fake or real'))\n",
    "file_count=len(files)\n",
    "print('Number of images is: ',file_count)"
   ]
  },
  {
   "cell_type": "code",
   "execution_count": 91,
   "id": "469f17a3",
   "metadata": {},
   "outputs": [],
   "source": [
    "path='./fake or real'\n",
    "data_dir=[]\n",
    "for image in os.listdir(path):\n",
    "    data_dir.append(os.path.join(path,image))"
   ]
  },
  {
   "cell_type": "code",
   "execution_count": 92,
   "id": "f0f93721",
   "metadata": {},
   "outputs": [
    {
     "data": {
      "text/plain": [
       "['./fake or real\\\\fake (1).jpg',\n",
       " './fake or real\\\\fake (10).jpg',\n",
       " './fake or real\\\\fake (100).jpg',\n",
       " './fake or real\\\\fake (1000).jpg',\n",
       " './fake or real\\\\fake (10000).jpg']"
      ]
     },
     "execution_count": 92,
     "metadata": {},
     "output_type": "execute_result"
    }
   ],
   "source": [
    "data_dir[:5]"
   ]
  },
  {
   "cell_type": "code",
   "execution_count": 93,
   "id": "15808810",
   "metadata": {},
   "outputs": [
    {
     "data": {
      "image/jpeg": "[encoded data removed]",
      "image/png": "[encoded data removed]",
      "text/plain": [
       "<PIL.JpegImagePlugin.JpegImageFile image mode=RGB size=32x32>"
      ]
     },
     "execution_count": 93,
     "metadata": {},
     "output_type": "execute_result"
    }
   ],
   "source": [
    "Image.open(data_dir[0])"
   ]
  },
  {
   "cell_type": "code",
   "execution_count": 94,
   "id": "87f86538",
   "metadata": {},
   "outputs": [],
   "source": [
    "fake_data_dir=[]\n",
    "real_data_dir=[]\n",
    "for image in data_dir:\n",
    "    if 'fake' in image.split('\\\\')[1]:\n",
    "        fake_data_dir.append(image)\n",
    "    else:\n",
    "        real_data_dir.append(image)"
   ]
  },
  {
   "cell_type": "code",
   "execution_count": 95,
   "id": "a042d8bd",
   "metadata": {},
   "outputs": [
    {
     "data": {
      "text/plain": [
       "10000"
      ]
     },
     "execution_count": 95,
     "metadata": {},
     "output_type": "execute_result"
    }
   ],
   "source": [
    "len(fake_data_dir)"
   ]
  },
  {
   "cell_type": "code",
   "execution_count": 96,
   "id": "cfeddbc4",
   "metadata": {},
   "outputs": [
    {
     "data": {
      "text/plain": [
       "10000"
      ]
     },
     "execution_count": 96,
     "metadata": {},
     "output_type": "execute_result"
    }
   ],
   "source": [
    "len(real_data_dir)"
   ]
  },
  {
   "cell_type": "code",
   "execution_count": 97,
   "id": "60e72e88",
   "metadata": {},
   "outputs": [
    {
     "data": {
      "text/plain": [
       "['./fake or real\\\\fake (1).jpg',\n",
       " './fake or real\\\\fake (10).jpg',\n",
       " './fake or real\\\\fake (100).jpg',\n",
       " './fake or real\\\\fake (1000).jpg',\n",
       " './fake or real\\\\fake (10000).jpg']"
      ]
     },
     "execution_count": 97,
     "metadata": {},
     "output_type": "execute_result"
    }
   ],
   "source": [
    "fake_data_dir[:5]"
   ]
  },
  {
   "cell_type": "code",
   "execution_count": 98,
   "id": "c1f6296e",
   "metadata": {},
   "outputs": [
    {
     "data": {
      "text/plain": [
       "['./fake or real\\\\real (1).jpg',\n",
       " './fake or real\\\\real (10).jpg',\n",
       " './fake or real\\\\real (100).jpg',\n",
       " './fake or real\\\\real (1000).jpg',\n",
       " './fake or real\\\\real (10000).jpg']"
      ]
     },
     "execution_count": 98,
     "metadata": {},
     "output_type": "execute_result"
    }
   ],
   "source": [
    "real_data_dir[:5]"
   ]
  },
  {
   "cell_type": "code",
   "execution_count": 99,
   "id": "1575b79c",
   "metadata": {},
   "outputs": [
    {
     "data": {
      "image/jpeg": "[encoded data removed]",
      "image/png": "[encoded data removed]",
      "text/plain": [
       "<PIL.JpegImagePlugin.JpegImageFile image mode=RGB size=32x32>"
      ]
     },
     "execution_count": 99,
     "metadata": {},
     "output_type": "execute_result"
    }
   ],
   "source": [
    "Image.open(fake_data_dir[0])"
   ]
  },
  {
   "cell_type": "code",
   "execution_count": 100,
   "id": "344385cc",
   "metadata": {},
   "outputs": [
    {
     "data": {
      "image/jpeg": "[encoded data removed]",
      "image/png": "[encoded data removed]",
      "text/plain": [
       "<PIL.JpegImagePlugin.JpegImageFile image mode=RGB size=32x32>"
      ]
     },
     "execution_count": 100,
     "metadata": {},
     "output_type": "execute_result"
    }
   ],
   "source": [
    "Image.open(real_data_dir[0])"
   ]
  },
  {
   "cell_type": "code",
   "execution_count": 101,
   "id": "fa6cd091",
   "metadata": {},
   "outputs": [],
   "source": [
    "X,y=[],[]\n",
    "for image in data_dir:\n",
    "    img=cv2.imread(image)\n",
    "    resized_img=cv2.resize(img,(32,32))\n",
    "    X.append(resized_img)\n",
    "    if 'fake' in image.split('\\\\')[1]:\n",
    "        y.append(0)\n",
    "    else:\n",
    "        y.append(1)"
   ]
  },
  {
   "cell_type": "code",
   "execution_count": 102,
   "id": "1a4e24a2",
   "metadata": {},
   "outputs": [
    {
     "data": {
      "text/plain": [
       "20000"
      ]
     },
     "execution_count": 102,
     "metadata": {},
     "output_type": "execute_result"
    }
   ],
   "source": [
    "len(X)"
   ]
  },
  {
   "cell_type": "code",
   "execution_count": 103,
   "id": "21b5959c",
   "metadata": {},
   "outputs": [
    {
     "data": {
      "text/plain": [
       "20000"
      ]
     },
     "execution_count": 103,
     "metadata": {},
     "output_type": "execute_result"
    }
   ],
   "source": [
    "len(y)"
   ]
  },
  {
   "cell_type": "code",
   "execution_count": 104,
   "id": "9c6d7821",
   "metadata": {},
   "outputs": [
    {
     "data": {
      "text/plain": [
       "array([[[ 62,  59,  75],\n",
       "        [ 60,  59,  75],\n",
       "        [ 59,  60,  74],\n",
       "        ...,\n",
       "        [  8, 184, 117],\n",
       "        [  0, 186, 117],\n",
       "        [  0, 186, 117]],\n",
       "\n",
       "       [[ 59,  59,  75],\n",
       "        [ 57,  60,  75],\n",
       "        [ 55,  61,  74],\n",
       "        ...,\n",
       "        [  8, 180, 114],\n",
       "        [  3, 181, 114],\n",
       "        [  0, 182, 114]],\n",
       "\n",
       "       [[ 52,  61,  75],\n",
       "        [ 50,  61,  75],\n",
       "        [ 46,  62,  74],\n",
       "        ...,\n",
       "        [ 11, 176, 109],\n",
       "        [  9, 176, 109],\n",
       "        [  8, 176, 109]],\n",
       "\n",
       "       ...,\n",
       "\n",
       "       [[ 76,  81, 114],\n",
       "        [ 70,  77, 110],\n",
       "        [ 61,  68, 101],\n",
       "        ...,\n",
       "        [ 57,  63,  86],\n",
       "        [ 54,  71,  97],\n",
       "        [ 33,  58,  84]],\n",
       "\n",
       "       [[ 64,  77, 115],\n",
       "        [ 57,  71, 107],\n",
       "        [ 52,  66, 102],\n",
       "        ...,\n",
       "        [ 54,  59,  84],\n",
       "        [ 69,  77, 106],\n",
       "        [ 56,  66,  96]],\n",
       "\n",
       "       [[ 51,  70, 108],\n",
       "        [ 43,  62, 100],\n",
       "        [ 45,  61,  98],\n",
       "        ...,\n",
       "        [ 60,  64,  92],\n",
       "        [ 63,  66,  97],\n",
       "        [ 58,  60,  94]]], dtype=uint8)"
      ]
     },
     "execution_count": 104,
     "metadata": {},
     "output_type": "execute_result"
    }
   ],
   "source": [
    "X[0]"
   ]
  },
  {
   "cell_type": "code",
   "execution_count": 105,
   "id": "78a9a616",
   "metadata": {},
   "outputs": [],
   "source": [
    "X_train,X_test,y_train,y_test=train_test_split(X,y,test_size=0.2,random_state=42,stratify=y)"
   ]
  },
  {
   "cell_type": "code",
   "execution_count": 106,
   "id": "5e2c0041",
   "metadata": {},
   "outputs": [
    {
     "data": {
      "text/plain": [
       "16000"
      ]
     },
     "execution_count": 106,
     "metadata": {},
     "output_type": "execute_result"
    }
   ],
   "source": [
    "len(X_train)"
   ]
  },
  {
   "cell_type": "code",
   "execution_count": 107,
   "id": "dac297e4",
   "metadata": {},
   "outputs": [
    {
     "data": {
      "text/plain": [
       "4000"
      ]
     },
     "execution_count": 107,
     "metadata": {},
     "output_type": "execute_result"
    }
   ],
   "source": [
    "len(X_test)"
   ]
  },
  {
   "cell_type": "code",
   "execution_count": 108,
   "id": "e5f13944",
   "metadata": {},
   "outputs": [],
   "source": [
    "X_train=np.array(X_train)\n",
    "X_test=np.array(X_test)\n",
    "y_train=np.array(y_train)\n",
    "y_test=np.array(y_test)"
   ]
  },
  {
   "cell_type": "code",
   "execution_count": 109,
   "id": "5ca1bb40",
   "metadata": {},
   "outputs": [
    {
     "data": {
      "text/plain": [
       "(16000, 32, 32, 3)"
      ]
     },
     "execution_count": 109,
     "metadata": {},
     "output_type": "execute_result"
    }
   ],
   "source": [
    "X_train.shape"
   ]
  },
  {
   "cell_type": "code",
   "execution_count": 110,
   "id": "1403f800",
   "metadata": {},
   "outputs": [
    {
     "data": {
      "text/plain": [
       "(4000, 32, 32, 3)"
      ]
     },
     "execution_count": 110,
     "metadata": {},
     "output_type": "execute_result"
    }
   ],
   "source": [
    "X_test.shape"
   ]
  },
  {
   "cell_type": "code",
   "execution_count": 111,
   "id": "be562f04",
   "metadata": {},
   "outputs": [],
   "source": [
    "X_train=X_train/255\n",
    "X_test=X_test/255"
   ]
  },
  {
   "cell_type": "code",
   "execution_count": 112,
   "id": "6ed01cff",
   "metadata": {},
   "outputs": [
    {
     "data": {
      "text/plain": [
       "array([[[0.94117647, 0.97254902, 0.96862745],\n",
       "        [0.94901961, 0.98039216, 0.97647059],\n",
       "        [0.96862745, 0.98823529, 0.98431373],\n",
       "        ...,\n",
       "        [0.99215686, 1.        , 1.        ],\n",
       "        [0.99215686, 1.        , 1.        ],\n",
       "        [0.99215686, 1.        , 1.        ]],\n",
       "\n",
       "       [[0.94117647, 0.97254902, 0.96862745],\n",
       "        [0.94901961, 0.98039216, 0.97647059],\n",
       "        [0.96862745, 0.98823529, 0.98431373],\n",
       "        ...,\n",
       "        [0.99215686, 1.        , 1.        ],\n",
       "        [0.99215686, 1.        , 1.        ],\n",
       "        [0.99215686, 1.        , 1.        ]],\n",
       "\n",
       "       [[0.94117647, 0.97254902, 0.96862745],\n",
       "        [0.94901961, 0.98039216, 0.97647059],\n",
       "        [0.96862745, 0.98823529, 0.98431373],\n",
       "        ...,\n",
       "        [0.98823529, 0.99607843, 0.99607843],\n",
       "        [0.99215686, 1.        , 1.        ],\n",
       "        [0.99215686, 1.        , 1.        ]],\n",
       "\n",
       "       ...,\n",
       "\n",
       "       [[0.26666667, 0.43921569, 0.43529412],\n",
       "        [0.26666667, 0.43921569, 0.43529412],\n",
       "        [0.27058824, 0.44705882, 0.43529412],\n",
       "        ...,\n",
       "        [1.        , 1.        , 1.        ],\n",
       "        [1.        , 0.98823529, 0.98823529],\n",
       "        [1.        , 1.        , 0.98823529]],\n",
       "\n",
       "       [[0.16078431, 0.33333333, 0.32941176],\n",
       "        [0.22352941, 0.39607843, 0.39215686],\n",
       "        [0.25490196, 0.43137255, 0.41960784],\n",
       "        ...,\n",
       "        [1.        , 0.99607843, 1.        ],\n",
       "        [1.        , 0.98039216, 0.98039216],\n",
       "        [1.        , 1.        , 0.98823529]],\n",
       "\n",
       "       [[0.14509804, 0.31764706, 0.31372549],\n",
       "        [0.23529412, 0.41176471, 0.4       ],\n",
       "        [0.24705882, 0.42352941, 0.41176471],\n",
       "        ...,\n",
       "        [1.        , 0.99607843, 1.        ],\n",
       "        [1.        , 0.97254902, 0.97254902],\n",
       "        [1.        , 1.        , 0.98823529]]])"
      ]
     },
     "execution_count": 112,
     "metadata": {},
     "output_type": "execute_result"
    }
   ],
   "source": [
    "X_train[0]"
   ]
  },
  {
   "cell_type": "code",
   "execution_count": 139,
   "id": "b2002cf2",
   "metadata": {},
   "outputs": [],
   "source": [
    "model=Sequential()"
   ]
  },
  {
   "cell_type": "code",
   "execution_count": 140,
   "id": "817632b7",
   "metadata": {},
   "outputs": [],
   "source": [
    "model.add(Conv2D(64,(3,3),padding='same',activation='relu',input_shape=(32,32,3))),\n",
    "model.add(MaxPooling2D()),\n",
    "model.add(Conv2D(64,(3,3),padding='same',activation='relu')),\n",
    "model.add(MaxPooling2D()),\n",
    "model.add(Conv2D(32,(3,3),padding='same',activation='relu')),\n",
    "model.add(MaxPooling2D()),\n",
    "model.add(Conv2D(32,(3,3),padding='same',activation='relu')),\n",
    "model.add(MaxPooling2D()),\n",
    "model.add(Conv2D(16,(3,3),padding='same',activation='relu')),\n",
    "model.add(MaxPooling2D()),\n",
    "model.add(Flatten()),\n",
    "model.add(Dense(200,activation='relu')),\n",
    "model.add(Dense(100,activation='relu')),\n",
    "model.add(Dense(1,activation='sigmoid'))"
   ]
  },
  {
   "cell_type": "code",
   "execution_count": 141,
   "id": "b98575ea",
   "metadata": {},
   "outputs": [],
   "source": [
    "model.compile(optimizer='adam',\n",
    "             loss='binary_crossentropy',\n",
    "             metrics=['accuracy'])"
   ]
  },
  {
   "cell_type": "code",
   "execution_count": 142,
   "id": "80b6dd84",
   "metadata": {
    "scrolled": false
   },
   "outputs": [
    {
     "name": "stdout",
     "output_type": "stream",
     "text": [
      "Epoch 1/10\n",
      "\u001b[1m500/500\u001b[0m \u001b[32m━━━━━━━━━━━━━━━━━━━━\u001b[0m\u001b[37m\u001b[0m \u001b[1m23s\u001b[0m 42ms/step - accuracy: 0.7000 - loss: 0.5457\n",
      "Epoch 2/10\n",
      "\u001b[1m500/500\u001b[0m \u001b[32m━━━━━━━━━━━━━━━━━━━━\u001b[0m\u001b[37m\u001b[0m \u001b[1m21s\u001b[0m 41ms/step - accuracy: 0.8622 - loss: 0.3217\n",
      "Epoch 3/10\n",
      "\u001b[1m500/500\u001b[0m \u001b[32m━━━━━━━━━━━━━━━━━━━━\u001b[0m\u001b[37m\u001b[0m \u001b[1m21s\u001b[0m 41ms/step - accuracy: 0.8837 - loss: 0.2751\n",
      "Epoch 4/10\n",
      "\u001b[1m500/500\u001b[0m \u001b[32m━━━━━━━━━━━━━━━━━━━━\u001b[0m\u001b[37m\u001b[0m \u001b[1m21s\u001b[0m 41ms/step - accuracy: 0.9055 - loss: 0.2386\n",
      "Epoch 5/10\n",
      "\u001b[1m500/500\u001b[0m \u001b[32m━━━━━━━━━━━━━━━━━━━━\u001b[0m\u001b[37m\u001b[0m \u001b[1m21s\u001b[0m 41ms/step - accuracy: 0.9136 - loss: 0.2097\n",
      "Epoch 6/10\n",
      "\u001b[1m500/500\u001b[0m \u001b[32m━━━━━━━━━━━━━━━━━━━━\u001b[0m\u001b[37m\u001b[0m \u001b[1m21s\u001b[0m 42ms/step - accuracy: 0.9186 - loss: 0.2025\n",
      "Epoch 7/10\n",
      "\u001b[1m500/500\u001b[0m \u001b[32m━━━━━━━━━━━━━━━━━━━━\u001b[0m\u001b[37m\u001b[0m \u001b[1m21s\u001b[0m 43ms/step - accuracy: 0.9289 - loss: 0.1828\n",
      "Epoch 8/10\n",
      "\u001b[1m500/500\u001b[0m \u001b[32m━━━━━━━━━━━━━━━━━━━━\u001b[0m\u001b[37m\u001b[0m \u001b[1m21s\u001b[0m 42ms/step - accuracy: 0.9325 - loss: 0.1637\n",
      "Epoch 9/10\n",
      "\u001b[1m500/500\u001b[0m \u001b[32m━━━━━━━━━━━━━━━━━━━━\u001b[0m\u001b[37m\u001b[0m \u001b[1m22s\u001b[0m 43ms/step - accuracy: 0.9399 - loss: 0.1468\n",
      "Epoch 10/10\n",
      "\u001b[1m500/500\u001b[0m \u001b[32m━━━━━━━━━━━━━━━━━━━━\u001b[0m\u001b[37m\u001b[0m \u001b[1m21s\u001b[0m 43ms/step - accuracy: 0.9478 - loss: 0.1390\n"
     ]
    },
    {
     "data": {
      "text/plain": [
       "<keras.src.callbacks.history.History at 0x24d1c71a2c0>"
      ]
     },
     "execution_count": 142,
     "metadata": {},
     "output_type": "execute_result"
    }
   ],
   "source": [
    "model.fit(X_train,y_train,epochs=10)"
   ]
  },
  {
   "cell_type": "code",
   "execution_count": 143,
   "id": "97d55fb7",
   "metadata": {},
   "outputs": [
    {
     "name": "stdout",
     "output_type": "stream",
     "text": [
      "\u001b[1m125/125\u001b[0m \u001b[32m━━━━━━━━━━━━━━━━━━━━\u001b[0m\u001b[37m\u001b[0m \u001b[1m2s\u001b[0m 17ms/step - accuracy: 0.9183 - loss: 0.2168\n"
     ]
    },
    {
     "data": {
      "text/plain": [
       "[0.24853569269180298, 0.906000018119812]"
      ]
     },
     "execution_count": 143,
     "metadata": {},
     "output_type": "execute_result"
    }
   ],
   "source": [
    "model.evaluate(X_test,y_test)"
   ]
  },
  {
   "cell_type": "code",
   "execution_count": 144,
   "id": "7021bcdc",
   "metadata": {},
   "outputs": [
    {
     "name": "stdout",
     "output_type": "stream",
     "text": [
      "\u001b[1m125/125\u001b[0m \u001b[32m━━━━━━━━━━━━━━━━━━━━\u001b[0m\u001b[37m\u001b[0m \u001b[1m3s\u001b[0m 17ms/step\n"
     ]
    }
   ],
   "source": [
    "y_predict=model.predict(X_test)"
   ]
  },
  {
   "cell_type": "code",
   "execution_count": 145,
   "id": "d9257b9f",
   "metadata": {},
   "outputs": [
    {
     "data": {
      "text/plain": [
       "array([[9.9940890e-01],\n",
       "       [1.4512956e-03],\n",
       "       [9.5243547e-07],\n",
       "       [9.2031193e-01],\n",
       "       [9.4889393e-03]], dtype=float32)"
      ]
     },
     "execution_count": 145,
     "metadata": {},
     "output_type": "execute_result"
    }
   ],
   "source": [
    "y_predict[:5]"
   ]
  },
  {
   "cell_type": "code",
   "execution_count": 146,
   "id": "5adfd072",
   "metadata": {},
   "outputs": [],
   "source": [
    "y_pred=np.where(y_predict>0.5,1,0)"
   ]
  },
  {
   "cell_type": "code",
   "execution_count": 147,
   "id": "95ab72c4",
   "metadata": {},
   "outputs": [
    {
     "data": {
      "text/plain": [
       "array([[1],\n",
       "       [0],\n",
       "       [0],\n",
       "       [1],\n",
       "       [0]])"
      ]
     },
     "execution_count": 147,
     "metadata": {},
     "output_type": "execute_result"
    }
   ],
   "source": [
    "y_pred[:5]"
   ]
  },
  {
   "cell_type": "code",
   "execution_count": 148,
   "id": "ddc09df3",
   "metadata": {},
   "outputs": [
    {
     "data": {
      "text/plain": [
       "array([1, 0, 0, 1, 0])"
      ]
     },
     "execution_count": 148,
     "metadata": {},
     "output_type": "execute_result"
    }
   ],
   "source": [
    "y_test[:5]"
   ]
  },
  {
   "cell_type": "code",
   "execution_count": 150,
   "id": "d50c3335",
   "metadata": {},
   "outputs": [
    {
     "name": "stdout",
     "output_type": "stream",
     "text": [
      "              precision    recall  f1-score   support\n",
      "\n",
      "           0       0.97      0.86      0.91      2272\n",
      "           1       0.84      0.97      0.90      1728\n",
      "\n",
      "    accuracy                           0.91      4000\n",
      "   macro avg       0.91      0.91      0.91      4000\n",
      "weighted avg       0.92      0.91      0.91      4000\n",
      "\n"
     ]
    }
   ],
   "source": [
    "print(classification_report(y_pred,y_test))"
   ]
  },
  {
   "cell_type": "code",
   "execution_count": 151,
   "id": "aadc8229",
   "metadata": {},
   "outputs": [
    {
     "data": {
      "image/png": "[encoded data removed]",
      "text/plain": [
       "<Figure size 648x504 with 2 Axes>"
      ]
     },
     "metadata": {
      "needs_background": "light"
     },
     "output_type": "display_data"
    }
   ],
   "source": [
    "plt.figure(figsize=(9,7))\n",
    "sns.heatmap(confusion_matrix(y_pred,y_test),annot=True,square=True,cbar=True,annot_kws={'size':15},fmt='d',cmap='Blues')\n",
    "plt.title('Confision Matrix')\n",
    "plt.xlabel('Predicted')\n",
    "plt.ylabel('Truth')\n",
    "plt.show()"
   ]
  }
 ],
 "metadata": {
  "kernelspec": {
   "display_name": "Python 3 (ipykernel)",
   "language": "python",
   "name": "python3"
  },
  "language_info": {
   "codemirror_mode": {
    "name": "ipython",
    "version": 3
   },
   "file_extension": ".py",
   "mimetype": "text/x-python",
   "name": "python",
   "nbconvert_exporter": "python",
   "pygments_lexer": "ipython3",
   "version": "3.10.5"
  }
 },
 "nbformat": 4,
 "nbformat_minor": 5
}
